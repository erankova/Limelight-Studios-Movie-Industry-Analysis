{
 "cells": [
  {
   "cell_type": "markdown",
   "metadata": {},
   "source": [
    "# Exploratory Notebook\n",
    "\n",
    "ALL group members"
   ]
  },
  {
   "cell_type": "markdown",
   "metadata": {},
   "source": [
    "## 1. Business Problem and Understanding"
   ]
  },
  {
   "cell_type": "markdown",
   "metadata": {},
   "source": [
    "**Stakeholders:**\n",
    "\n",
    "[business problem and background]\n",
    "\n",
    "**Preliminary Questions include:**\n",
    "\n",
    "-\n",
    "-\n",
    "- \n",
    "\n",
    "Databases:\n",
    "\n",
    "**The goal:**"
   ]
  },
  {
   "cell_type": "code",
   "execution_count": 2,
   "metadata": {},
   "outputs": [],
   "source": [
    "# import libraries\n",
    "\n",
    "import pandas as pd\n",
    "import numpy as np\n",
    "import matplotlib.pyplot as plt\n",
    "import seaborn as sns\n",
    "import scipy.stats as stats\n",
    "import statsmodels.api as sm\n",
    "import sqlite3\n",
    "\n",
    "%matplotlib inline\n"
   ]
  },
  {
   "cell_type": "code",
   "execution_count": 3,
   "metadata": {},
   "outputs": [],
   "source": [
    "# Load in csv & tsv data\n",
    "\n",
    "# tsv's are tabbular and take '\\t' as the delimiter\n",
    "# 'rt.reviews.tsv' did not take default uft-8 decoding\n",
    "\n",
    "df_gross = pd.read_csv('Data/bom.movie_gross.csv')\n",
    "df_info = pd.read_csv('Data/rt.movie_info.tsv', delimiter='\\t')\n",
    "df_rev = pd.read_csv('Data/rt.reviews.tsv', delimiter='\\t', encoding='latin-1')\n",
    "df_db = pd.read_csv('Data/tmdb.movies.csv', index_col=0)\n",
    "df_budg = pd.read_csv('Data/tn.movie_budgets.csv')"
   ]
  },
  {
   "cell_type": "code",
   "execution_count": 4,
   "metadata": {},
   "outputs": [],
   "source": [
    "# create sql connection to database\n",
    "conn = sqlite3.connect('Data/im.db')\n",
    "cur = conn.cursor()"
   ]
  },
  {
   "cell_type": "markdown",
   "metadata": {
    "jp-MarkdownHeadingCollapsed": true
   },
   "source": [
    "## 2. Dataframe Exploration"
   ]
  },
  {
   "cell_type": "code",
   "execution_count": 5,
   "metadata": {},
   "outputs": [],
   "source": [
    "# Join movie_basics and movie_ratings & create df\n",
    "\n",
    "q = ''' SELECT *\n",
    "FROM movie_basics\n",
    "JOIN movie_ratings\n",
    "USING (movie_id)\n",
    "'''\n",
    "\n",
    "df_basics = pd.read_sql(q, conn)"
   ]
  },
  {
   "cell_type": "code",
   "execution_count": 6,
   "metadata": {},
   "outputs": [],
   "source": [
    "# Join persons with directors\n",
    "q = ''' SELECT *\n",
    "FROM persons\n",
    "JOIN directors\n",
    "USING (person_id)\n",
    "'''\n",
    "\n",
    "df_directors = pd.read_sql(q, conn)"
   ]
  },
  {
   "cell_type": "code",
   "execution_count": 7,
   "metadata": {},
   "outputs": [],
   "source": [
    "# Join persons with writers\n",
    "q = ''' SELECT *\n",
    "FROM persons\n",
    "JOIN writers\n",
    "USING (person_id)\n",
    "'''\n",
    "\n",
    "df_writers = pd.read_sql(q, conn)"
   ]
  },
  {
   "cell_type": "code",
   "execution_count": 8,
   "metadata": {},
   "outputs": [],
   "source": [
    "# Join persons with known_for\n",
    "q = ''' SELECT *\n",
    "FROM persons\n",
    "JOIN known_for\n",
    "USING (person_id)\n",
    "'''\n",
    "\n",
    "df_known_for = pd.read_sql(q, conn)"
   ]
  },
  {
   "cell_type": "code",
   "execution_count": 9,
   "metadata": {},
   "outputs": [],
   "source": [
    "# Create df for movie_akas\n",
    "\n",
    "q = '''\n",
    "SELECT *\n",
    "FROM movie_akas\n",
    "'''\n",
    "df_akas = pd.read_sql(q,conn)"
   ]
  },
  {
   "cell_type": "code",
   "execution_count": 10,
   "metadata": {},
   "outputs": [],
   "source": [
    "# Create df for principals\n",
    "\n",
    "q = '''\n",
    "SELECT *\n",
    "FROM principals\n",
    "'''\n",
    "df_principals = pd.read_sql(q,conn)"
   ]
  },
  {
   "cell_type": "code",
   "execution_count": 11,
   "metadata": {},
   "outputs": [],
   "source": [
    "# Create function to get df summary\n",
    "def df_summary(df):\n",
    "    print(df.head(3))\n",
    "    print(df.info())\n",
    "    print(df.isna().sum())\n",
    "    print(df.isna().sum()/len(df)*100)"
   ]
  },
  {
   "cell_type": "markdown",
   "metadata": {
    "jp-MarkdownHeadingCollapsed": true
   },
   "source": [
    "#### `df_basics`\n",
    "\n",
    "- Drop nas\n",
    "- Lowercase object columns"
   ]
  },
  {
   "cell_type": "code",
   "execution_count": 11,
   "metadata": {},
   "outputs": [
    {
     "name": "stdout",
     "output_type": "stream",
     "text": [
      "    movie_id                    primary_title              original_title  \\\n",
      "0  tt0063540                        Sunghursh                   Sunghursh   \n",
      "1  tt0066787  One Day Before the Rainy Season             Ashad Ka Ek Din   \n",
      "2  tt0069049       The Other Side of the Wind  The Other Side of the Wind   \n",
      "\n",
      "   start_year  runtime_minutes              genres  averagerating  numvotes  \n",
      "0        2013            175.0  Action,Crime,Drama            7.0        77  \n",
      "1        2019            114.0     Biography,Drama            7.2        43  \n",
      "2        2018            122.0               Drama            6.9      4517  \n",
      "<class 'pandas.core.frame.DataFrame'>\n",
      "RangeIndex: 73856 entries, 0 to 73855\n",
      "Data columns (total 8 columns):\n",
      " #   Column           Non-Null Count  Dtype  \n",
      "---  ------           --------------  -----  \n",
      " 0   movie_id         73856 non-null  object \n",
      " 1   primary_title    73856 non-null  object \n",
      " 2   original_title   73856 non-null  object \n",
      " 3   start_year       73856 non-null  int64  \n",
      " 4   runtime_minutes  66236 non-null  float64\n",
      " 5   genres           73052 non-null  object \n",
      " 6   averagerating    73856 non-null  float64\n",
      " 7   numvotes         73856 non-null  int64  \n",
      "dtypes: float64(2), int64(2), object(4)\n",
      "memory usage: 4.5+ MB\n",
      "None\n",
      "movie_id              0\n",
      "primary_title         0\n",
      "original_title        0\n",
      "start_year            0\n",
      "runtime_minutes    7620\n",
      "genres              804\n",
      "averagerating         0\n",
      "numvotes              0\n",
      "dtype: int64\n",
      "movie_id            0.000000\n",
      "primary_title       0.000000\n",
      "original_title      0.000000\n",
      "start_year          0.000000\n",
      "runtime_minutes    10.317374\n",
      "genres              1.088605\n",
      "averagerating       0.000000\n",
      "numvotes            0.000000\n",
      "dtype: float64\n"
     ]
    }
   ],
   "source": [
    "df_summary(df_basics)"
   ]
  },
  {
   "cell_type": "markdown",
   "metadata": {
    "jp-MarkdownHeadingCollapsed": true
   },
   "source": [
    "#### `df_akas`\n",
    "\n",
    "- Can use to compare language to gross amount"
   ]
  },
  {
   "cell_type": "code",
   "execution_count": 12,
   "metadata": {},
   "outputs": [
    {
     "name": "stdout",
     "output_type": "stream",
     "text": [
      "    movie_id  ordering                                    title region  \\\n",
      "0  tt0369610        10                            Джурасик свят     BG   \n",
      "1  tt0369610        11                        Jurashikku warudo     JP   \n",
      "2  tt0369610        12  Jurassic World: O Mundo dos Dinossauros     BR   \n",
      "\n",
      "  language        types attributes  is_original_title  \n",
      "0       bg         None       None                0.0  \n",
      "1     None  imdbDisplay       None                0.0  \n",
      "2     None  imdbDisplay       None                0.0  \n",
      "<class 'pandas.core.frame.DataFrame'>\n",
      "RangeIndex: 331703 entries, 0 to 331702\n",
      "Data columns (total 8 columns):\n",
      " #   Column             Non-Null Count   Dtype  \n",
      "---  ------             --------------   -----  \n",
      " 0   movie_id           331703 non-null  object \n",
      " 1   ordering           331703 non-null  int64  \n",
      " 2   title              331703 non-null  object \n",
      " 3   region             278410 non-null  object \n",
      " 4   language           41715 non-null   object \n",
      " 5   types              168447 non-null  object \n",
      " 6   attributes         14925 non-null   object \n",
      " 7   is_original_title  331678 non-null  float64\n",
      "dtypes: float64(1), int64(1), object(6)\n",
      "memory usage: 20.2+ MB\n",
      "None\n",
      "movie_id                  0\n",
      "ordering                  0\n",
      "title                     0\n",
      "region                53293\n",
      "language             289988\n",
      "types                163256\n",
      "attributes           316778\n",
      "is_original_title        25\n",
      "dtype: int64\n",
      "movie_id              0.000000\n",
      "ordering              0.000000\n",
      "title                 0.000000\n",
      "region               16.066481\n",
      "language             87.423991\n",
      "types                49.217523\n",
      "attributes           95.500493\n",
      "is_original_title     0.007537\n",
      "dtype: float64\n"
     ]
    }
   ],
   "source": [
    "df_summary(df_akas)"
   ]
  },
  {
   "cell_type": "markdown",
   "metadata": {
    "jp-MarkdownHeadingCollapsed": true
   },
   "source": [
    "#### `df_directors`, `df_writers`, `df_known_for`\n",
    "\n",
    "- Without gender and other socio cultural details, not sure this information can be used."
   ]
  },
  {
   "cell_type": "code",
   "execution_count": 13,
   "metadata": {},
   "outputs": [
    {
     "name": "stdout",
     "output_type": "stream",
     "text": [
      "   person_id    primary_name  birth_year  death_year  \\\n",
      "0  nm0062879  Ruel S. Bayani         NaN         NaN   \n",
      "1  nm0062879  Ruel S. Bayani         NaN         NaN   \n",
      "2  nm0062879  Ruel S. Bayani         NaN         NaN   \n",
      "\n",
      "                          primary_profession   movie_id  \n",
      "0  director,production_manager,miscellaneous  tt1592569  \n",
      "1  director,production_manager,miscellaneous  tt1592569  \n",
      "2  director,production_manager,miscellaneous  tt1592569  \n",
      "<class 'pandas.core.frame.DataFrame'>\n",
      "RangeIndex: 291171 entries, 0 to 291170\n",
      "Data columns (total 6 columns):\n",
      " #   Column              Non-Null Count   Dtype  \n",
      "---  ------              --------------   -----  \n",
      " 0   person_id           291171 non-null  object \n",
      " 1   primary_name        291171 non-null  object \n",
      " 2   birth_year          68608 non-null   float64\n",
      " 3   death_year          1738 non-null    float64\n",
      " 4   primary_profession  290187 non-null  object \n",
      " 5   movie_id            291171 non-null  object \n",
      "dtypes: float64(2), object(4)\n",
      "memory usage: 13.3+ MB\n",
      "None\n",
      "person_id                  0\n",
      "primary_name               0\n",
      "birth_year            222563\n",
      "death_year            289433\n",
      "primary_profession       984\n",
      "movie_id                   0\n",
      "dtype: int64\n",
      "person_id              0.000000\n",
      "primary_name           0.000000\n",
      "birth_year            76.437214\n",
      "death_year            99.403100\n",
      "primary_profession     0.337946\n",
      "movie_id               0.000000\n",
      "dtype: float64\n",
      "___________________________________________________________________________\n",
      "   person_id           primary_name  birth_year  death_year  \\\n",
      "0  nm0064023          Bryan Beasley         NaN         NaN   \n",
      "1  nm0065847  Michael Frost Beckner      1963.0         NaN   \n",
      "2  nm0068874      Hava Kohav Beller         NaN         NaN   \n",
      "\n",
      "              primary_profession   movie_id  \n",
      "0       director,producer,writer  tt3501180  \n",
      "1  writer,producer,miscellaneous  tt6349302  \n",
      "2       director,writer,producer  tt7701650  \n",
      "<class 'pandas.core.frame.DataFrame'>\n",
      "RangeIndex: 255871 entries, 0 to 255870\n",
      "Data columns (total 6 columns):\n",
      " #   Column              Non-Null Count   Dtype  \n",
      "---  ------              --------------   -----  \n",
      " 0   person_id           255871 non-null  object \n",
      " 1   primary_name        255871 non-null  object \n",
      " 2   birth_year          52917 non-null   float64\n",
      " 3   death_year          4078 non-null    float64\n",
      " 4   primary_profession  255029 non-null  object \n",
      " 5   movie_id            255871 non-null  object \n",
      "dtypes: float64(2), object(4)\n",
      "memory usage: 11.7+ MB\n",
      "None\n",
      "person_id                  0\n",
      "primary_name               0\n",
      "birth_year            202954\n",
      "death_year            251793\n",
      "primary_profession       842\n",
      "movie_id                   0\n",
      "dtype: int64\n",
      "person_id              0.000000\n",
      "primary_name           0.000000\n",
      "birth_year            79.318876\n",
      "death_year            98.406228\n",
      "primary_profession     0.329072\n",
      "movie_id               0.000000\n",
      "dtype: float64\n",
      "___________________________________________________________________________\n",
      "   person_id       primary_name  birth_year  death_year  \\\n",
      "0  nm0061671  Mary Ellen Bauder         NaN         NaN   \n",
      "1  nm0061671  Mary Ellen Bauder         NaN         NaN   \n",
      "2  nm0061671  Mary Ellen Bauder         NaN         NaN   \n",
      "\n",
      "                          primary_profession   movie_id  \n",
      "0  miscellaneous,production_manager,producer  tt0118553  \n",
      "1  miscellaneous,production_manager,producer  tt0837562  \n",
      "2  miscellaneous,production_manager,producer  tt0844471  \n",
      "<class 'pandas.core.frame.DataFrame'>\n",
      "RangeIndex: 1638260 entries, 0 to 1638259\n",
      "Data columns (total 6 columns):\n",
      " #   Column              Non-Null Count    Dtype  \n",
      "---  ------              --------------    -----  \n",
      " 0   person_id           1638260 non-null  object \n",
      " 1   primary_name        1638260 non-null  object \n",
      " 2   birth_year          319134 non-null   float64\n",
      " 3   death_year          24469 non-null    float64\n",
      " 4   primary_profession  1580490 non-null  object \n",
      " 5   movie_id            1638260 non-null  object \n",
      "dtypes: float64(2), object(4)\n",
      "memory usage: 75.0+ MB\n",
      "None\n",
      "person_id                   0\n",
      "primary_name                0\n",
      "birth_year            1319126\n",
      "death_year            1613791\n",
      "primary_profession      57770\n",
      "movie_id                    0\n",
      "dtype: int64\n",
      "person_id              0.000000\n",
      "primary_name           0.000000\n",
      "birth_year            80.519942\n",
      "death_year            98.506403\n",
      "primary_profession     3.526302\n",
      "movie_id               0.000000\n",
      "dtype: float64\n"
     ]
    }
   ],
   "source": [
    "df_summary(df_directors)\n",
    "print('___________________________________________________________________________')\n",
    "df_summary(df_writers)\n",
    "print('___________________________________________________________________________')\n",
    "df_summary(df_known_for)"
   ]
  },
  {
   "cell_type": "markdown",
   "metadata": {
    "jp-MarkdownHeadingCollapsed": true
   },
   "source": [
    "#### `df_principals`\n",
    "\n",
    "- Not sure if we will use this table\n",
    "- If we do, we may be able to fill in from other tables"
   ]
  },
  {
   "cell_type": "code",
   "execution_count": 14,
   "metadata": {},
   "outputs": [
    {
     "name": "stdout",
     "output_type": "stream",
     "text": [
      "    movie_id  ordering  person_id  category       job   characters\n",
      "0  tt0111414         1  nm0246005     actor      None  [\"The Man\"]\n",
      "1  tt0111414         2  nm0398271  director      None         None\n",
      "2  tt0111414         3  nm3739909  producer  producer         None\n",
      "<class 'pandas.core.frame.DataFrame'>\n",
      "RangeIndex: 1028186 entries, 0 to 1028185\n",
      "Data columns (total 6 columns):\n",
      " #   Column      Non-Null Count    Dtype \n",
      "---  ------      --------------    ----- \n",
      " 0   movie_id    1028186 non-null  object\n",
      " 1   ordering    1028186 non-null  int64 \n",
      " 2   person_id   1028186 non-null  object\n",
      " 3   category    1028186 non-null  object\n",
      " 4   job         177684 non-null   object\n",
      " 5   characters  393360 non-null   object\n",
      "dtypes: int64(1), object(5)\n",
      "memory usage: 47.1+ MB\n",
      "None\n",
      "movie_id           0\n",
      "ordering           0\n",
      "person_id          0\n",
      "category           0\n",
      "job           850502\n",
      "characters    634826\n",
      "dtype: int64\n",
      "movie_id       0.000000\n",
      "ordering       0.000000\n",
      "person_id      0.000000\n",
      "category       0.000000\n",
      "job           82.718691\n",
      "characters    61.742331\n",
      "dtype: float64\n"
     ]
    }
   ],
   "source": [
    "df_summary(df_principals)"
   ]
  },
  {
   "cell_type": "markdown",
   "metadata": {
    "jp-MarkdownHeadingCollapsed": true
   },
   "source": [
    "#### `df_gross`\n",
    "\n",
    "- `df_budg` has more complete info on gross numbers. May not use."
   ]
  },
  {
   "cell_type": "code",
   "execution_count": 157,
   "metadata": {},
   "outputs": [
    {
     "name": "stdout",
     "output_type": "stream",
     "text": [
      "                                         title studio  domestic_gross  \\\n",
      "0                                  Toy Story 3     BV     415000000.0   \n",
      "1                   Alice in Wonderland (2010)     BV     334200000.0   \n",
      "2  Harry Potter and the Deathly Hallows Part 1     WB     296000000.0   \n",
      "\n",
      "  foreign_gross  year  \n",
      "0     652000000  2010  \n",
      "1     691300000  2010  \n",
      "2     664300000  2010  \n",
      "<class 'pandas.core.frame.DataFrame'>\n",
      "RangeIndex: 3387 entries, 0 to 3386\n",
      "Data columns (total 5 columns):\n",
      " #   Column          Non-Null Count  Dtype  \n",
      "---  ------          --------------  -----  \n",
      " 0   title           3387 non-null   object \n",
      " 1   studio          3382 non-null   object \n",
      " 2   domestic_gross  3359 non-null   float64\n",
      " 3   foreign_gross   2037 non-null   object \n",
      " 4   year            3387 non-null   int64  \n",
      "dtypes: float64(1), int64(1), object(3)\n",
      "memory usage: 132.4+ KB\n",
      "None\n",
      "title                0\n",
      "studio               5\n",
      "domestic_gross      28\n",
      "foreign_gross     1350\n",
      "year                 0\n",
      "dtype: int64\n",
      "title              0.000000\n",
      "studio             0.147623\n",
      "domestic_gross     0.826690\n",
      "foreign_gross     39.858282\n",
      "year               0.000000\n",
      "dtype: float64\n"
     ]
    }
   ],
   "source": [
    "df_summary(df_gross)"
   ]
  },
  {
   "cell_type": "markdown",
   "metadata": {
    "jp-MarkdownHeadingCollapsed": true
   },
   "source": [
    "#### `df_info`\n",
    "\n",
    "- Too many missing values. May not use."
   ]
  },
  {
   "cell_type": "code",
   "execution_count": 79,
   "metadata": {},
   "outputs": [
    {
     "name": "stdout",
     "output_type": "stream",
     "text": [
      "   id                                           synopsis rating  \\\n",
      "0   1  This gritty, fast-paced, and innovative police...      R   \n",
      "1   3  New York City, not-too-distant-future: Eric Pa...      R   \n",
      "2   5  Illeana Douglas delivers a superb performance ...      R   \n",
      "\n",
      "                                 genre          director  \\\n",
      "0  Action and Adventure|Classics|Drama  William Friedkin   \n",
      "1    Drama|Science Fiction and Fantasy  David Cronenberg   \n",
      "2    Drama|Musical and Performing Arts    Allison Anders   \n",
      "\n",
      "                         writer  theater_date      dvd_date currency  \\\n",
      "0                Ernest Tidyman   Oct 9, 1971  Sep 25, 2001      NaN   \n",
      "1  David Cronenberg|Don DeLillo  Aug 17, 2012   Jan 1, 2013        $   \n",
      "2                Allison Anders  Sep 13, 1996  Apr 18, 2000      NaN   \n",
      "\n",
      "  box_office      runtime             studio  \n",
      "0        NaN  104 minutes                NaN  \n",
      "1    600,000  108 minutes  Entertainment One  \n",
      "2        NaN  116 minutes                NaN  \n",
      "<class 'pandas.core.frame.DataFrame'>\n",
      "RangeIndex: 1560 entries, 0 to 1559\n",
      "Data columns (total 12 columns):\n",
      " #   Column        Non-Null Count  Dtype \n",
      "---  ------        --------------  ----- \n",
      " 0   id            1560 non-null   int64 \n",
      " 1   synopsis      1498 non-null   object\n",
      " 2   rating        1557 non-null   object\n",
      " 3   genre         1552 non-null   object\n",
      " 4   director      1361 non-null   object\n",
      " 5   writer        1111 non-null   object\n",
      " 6   theater_date  1201 non-null   object\n",
      " 7   dvd_date      1201 non-null   object\n",
      " 8   currency      340 non-null    object\n",
      " 9   box_office    340 non-null    object\n",
      " 10  runtime       1530 non-null   object\n",
      " 11  studio        494 non-null    object\n",
      "dtypes: int64(1), object(11)\n",
      "memory usage: 146.4+ KB\n",
      "None\n",
      "id                 0\n",
      "synopsis          62\n",
      "rating             3\n",
      "genre              8\n",
      "director         199\n",
      "writer           449\n",
      "theater_date     359\n",
      "dvd_date         359\n",
      "currency        1220\n",
      "box_office      1220\n",
      "runtime           30\n",
      "studio          1066\n",
      "dtype: int64\n",
      "id               0.000000\n",
      "synopsis         3.974359\n",
      "rating           0.192308\n",
      "genre            0.512821\n",
      "director        12.756410\n",
      "writer          28.782051\n",
      "theater_date    23.012821\n",
      "dvd_date        23.012821\n",
      "currency        78.205128\n",
      "box_office      78.205128\n",
      "runtime          1.923077\n",
      "studio          68.333333\n",
      "dtype: float64\n"
     ]
    }
   ],
   "source": [
    "df_summary(df_info)"
   ]
  },
  {
   "cell_type": "markdown",
   "metadata": {
    "jp-MarkdownHeadingCollapsed": true
   },
   "source": [
    "#### `df_rev`\n",
    "\n",
    "- Not sure if there is enough significant information."
   ]
  },
  {
   "cell_type": "code",
   "execution_count": 17,
   "metadata": {},
   "outputs": [
    {
     "name": "stdout",
     "output_type": "stream",
     "text": [
      "   id                                             review rating   fresh  \\\n",
      "0   3  A distinctly gallows take on contemporary fina...    3/5   fresh   \n",
      "1   3  It's an allegory in search of a meaning that n...    NaN  rotten   \n",
      "2   3  ... life lived in a bubble in financial dealin...    NaN   fresh   \n",
      "\n",
      "           critic  top_critic         publisher               date  \n",
      "0      PJ Nabarro           0   Patrick Nabarro  November 10, 2018  \n",
      "1  Annalee Newitz           0           io9.com       May 23, 2018  \n",
      "2    Sean Axmaker           0  Stream on Demand    January 4, 2018  \n",
      "<class 'pandas.core.frame.DataFrame'>\n",
      "RangeIndex: 54432 entries, 0 to 54431\n",
      "Data columns (total 8 columns):\n",
      " #   Column      Non-Null Count  Dtype \n",
      "---  ------      --------------  ----- \n",
      " 0   id          54432 non-null  int64 \n",
      " 1   review      48869 non-null  object\n",
      " 2   rating      40915 non-null  object\n",
      " 3   fresh       54432 non-null  object\n",
      " 4   critic      51710 non-null  object\n",
      " 5   top_critic  54432 non-null  int64 \n",
      " 6   publisher   54123 non-null  object\n",
      " 7   date        54432 non-null  object\n",
      "dtypes: int64(2), object(6)\n",
      "memory usage: 3.3+ MB\n",
      "None\n",
      "id                0\n",
      "review         5563\n",
      "rating        13517\n",
      "fresh             0\n",
      "critic         2722\n",
      "top_critic        0\n",
      "publisher       309\n",
      "date              0\n",
      "dtype: int64\n",
      "id             0.000000\n",
      "review        10.220091\n",
      "rating        24.832819\n",
      "fresh          0.000000\n",
      "critic         5.000735\n",
      "top_critic     0.000000\n",
      "publisher      0.567681\n",
      "date           0.000000\n",
      "dtype: float64\n"
     ]
    }
   ],
   "source": [
    "df_summary(df_rev)"
   ]
  },
  {
   "cell_type": "markdown",
   "metadata": {
    "jp-MarkdownHeadingCollapsed": true
   },
   "source": [
    "#### `df_db`\n",
    "\n",
    "- No nulls\n",
    "- Create new column `release_year` from `release_date`"
   ]
  },
  {
   "cell_type": "code",
   "execution_count": 14,
   "metadata": {},
   "outputs": [
    {
     "name": "stdout",
     "output_type": "stream",
     "text": [
      "             genre_ids     id original_language  \\\n",
      "0      [12, 14, 10751]  12444                en   \n",
      "1  [14, 12, 16, 10751]  10191                en   \n",
      "2        [12, 28, 878]  10138                en   \n",
      "\n",
      "                                 original_title  popularity release_date  \\\n",
      "0  Harry Potter and the Deathly Hallows: Part 1      33.533   2010-11-19   \n",
      "1                      How to Train Your Dragon      28.734   2010-03-26   \n",
      "2                                    Iron Man 2      28.515   2010-05-07   \n",
      "\n",
      "                                          title  vote_average  vote_count  \n",
      "0  Harry Potter and the Deathly Hallows: Part 1           7.7       10788  \n",
      "1                      How to Train Your Dragon           7.7        7610  \n",
      "2                                    Iron Man 2           6.8       12368  \n",
      "<class 'pandas.core.frame.DataFrame'>\n",
      "Index: 26517 entries, 0 to 26516\n",
      "Data columns (total 9 columns):\n",
      " #   Column             Non-Null Count  Dtype  \n",
      "---  ------             --------------  -----  \n",
      " 0   genre_ids          26517 non-null  object \n",
      " 1   id                 26517 non-null  int64  \n",
      " 2   original_language  26517 non-null  object \n",
      " 3   original_title     26517 non-null  object \n",
      " 4   popularity         26517 non-null  float64\n",
      " 5   release_date       26517 non-null  object \n",
      " 6   title              26517 non-null  object \n",
      " 7   vote_average       26517 non-null  float64\n",
      " 8   vote_count         26517 non-null  int64  \n",
      "dtypes: float64(2), int64(2), object(5)\n",
      "memory usage: 2.0+ MB\n",
      "None\n",
      "genre_ids            0\n",
      "id                   0\n",
      "original_language    0\n",
      "original_title       0\n",
      "popularity           0\n",
      "release_date         0\n",
      "title                0\n",
      "vote_average         0\n",
      "vote_count           0\n",
      "dtype: int64\n",
      "genre_ids            0.0\n",
      "id                   0.0\n",
      "original_language    0.0\n",
      "original_title       0.0\n",
      "popularity           0.0\n",
      "release_date         0.0\n",
      "title                0.0\n",
      "vote_average         0.0\n",
      "vote_count           0.0\n",
      "dtype: float64\n"
     ]
    }
   ],
   "source": [
    "df_summary(df_db)"
   ]
  },
  {
   "cell_type": "markdown",
   "metadata": {
    "jp-MarkdownHeadingCollapsed": true
   },
   "source": [
    "#### `df_budg`\n",
    "\n",
    "- No nulls\n",
    "- 'movie' = 'title'\n",
    "- Adjust 'release_date' if using for analysis\n",
    "- Adjust 'gross' columns to int"
   ]
  },
  {
   "cell_type": "code",
   "execution_count": 15,
   "metadata": {},
   "outputs": [
    {
     "name": "stdout",
     "output_type": "stream",
     "text": [
      "   id  release_date                                        movie  \\\n",
      "0   1  Dec 18, 2009                                       Avatar   \n",
      "1   2  May 20, 2011  Pirates of the Caribbean: On Stranger Tides   \n",
      "2   3   Jun 7, 2019                                 Dark Phoenix   \n",
      "\n",
      "  production_budget domestic_gross worldwide_gross  \n",
      "0      $425,000,000   $760,507,625  $2,776,345,279  \n",
      "1      $410,600,000   $241,063,875  $1,045,663,875  \n",
      "2      $350,000,000    $42,762,350    $149,762,350  \n",
      "<class 'pandas.core.frame.DataFrame'>\n",
      "RangeIndex: 5782 entries, 0 to 5781\n",
      "Data columns (total 6 columns):\n",
      " #   Column             Non-Null Count  Dtype \n",
      "---  ------             --------------  ----- \n",
      " 0   id                 5782 non-null   int64 \n",
      " 1   release_date       5782 non-null   object\n",
      " 2   movie              5782 non-null   object\n",
      " 3   production_budget  5782 non-null   object\n",
      " 4   domestic_gross     5782 non-null   object\n",
      " 5   worldwide_gross    5782 non-null   object\n",
      "dtypes: int64(1), object(5)\n",
      "memory usage: 271.2+ KB\n",
      "None\n",
      "id                   0\n",
      "release_date         0\n",
      "movie                0\n",
      "production_budget    0\n",
      "domestic_gross       0\n",
      "worldwide_gross      0\n",
      "dtype: int64\n",
      "id                   0.0\n",
      "release_date         0.0\n",
      "movie                0.0\n",
      "production_budget    0.0\n",
      "domestic_gross       0.0\n",
      "worldwide_gross      0.0\n",
      "dtype: float64\n"
     ]
    }
   ],
   "source": [
    "df_summary(df_budg)"
   ]
  },
  {
   "cell_type": "markdown",
   "metadata": {},
   "source": [
    "## 3. Data Cleaning & Preprocessing"
   ]
  },
  {
   "cell_type": "code",
   "execution_count": 12,
   "metadata": {},
   "outputs": [],
   "source": [
    "# Lowercase function\n",
    "def lowercase(df):\n",
    "    for col in df.columns:\n",
    "        if df[col].dtype == object:\n",
    "            df[col] = df[col].str.lower()\n",
    "    return df"
   ]
  },
  {
   "cell_type": "markdown",
   "metadata": {
    "jp-MarkdownHeadingCollapsed": true
   },
   "source": [
    "#### Cleaning df_basics"
   ]
  },
  {
   "cell_type": "code",
   "execution_count": 44,
   "metadata": {},
   "outputs": [
    {
     "data": {
      "text/html": [
       "<div>\n",
       "<style scoped>\n",
       "    .dataframe tbody tr th:only-of-type {\n",
       "        vertical-align: middle;\n",
       "    }\n",
       "\n",
       "    .dataframe tbody tr th {\n",
       "        vertical-align: top;\n",
       "    }\n",
       "\n",
       "    .dataframe thead th {\n",
       "        text-align: right;\n",
       "    }\n",
       "</style>\n",
       "<table border=\"1\" class=\"dataframe\">\n",
       "  <thead>\n",
       "    <tr style=\"text-align: right;\">\n",
       "      <th></th>\n",
       "      <th>movie_id</th>\n",
       "      <th>primary_title</th>\n",
       "      <th>original_title</th>\n",
       "      <th>start_year</th>\n",
       "      <th>runtime_minutes</th>\n",
       "      <th>genres</th>\n",
       "      <th>averagerating</th>\n",
       "      <th>numvotes</th>\n",
       "      <th>primary_genre</th>\n",
       "    </tr>\n",
       "  </thead>\n",
       "  <tbody>\n",
       "    <tr>\n",
       "      <th>0</th>\n",
       "      <td>tt0063540</td>\n",
       "      <td>sunghursh</td>\n",
       "      <td>sunghursh</td>\n",
       "      <td>2013</td>\n",
       "      <td>175.0</td>\n",
       "      <td>action,crime,drama</td>\n",
       "      <td>7.0</td>\n",
       "      <td>77</td>\n",
       "      <td>action</td>\n",
       "    </tr>\n",
       "    <tr>\n",
       "      <th>1</th>\n",
       "      <td>tt0066787</td>\n",
       "      <td>one day before the rainy season</td>\n",
       "      <td>ashad ka ek din</td>\n",
       "      <td>2019</td>\n",
       "      <td>114.0</td>\n",
       "      <td>biography,drama</td>\n",
       "      <td>7.2</td>\n",
       "      <td>43</td>\n",
       "      <td>biography</td>\n",
       "    </tr>\n",
       "    <tr>\n",
       "      <th>2</th>\n",
       "      <td>tt0069049</td>\n",
       "      <td>the other side of the wind</td>\n",
       "      <td>the other side of the wind</td>\n",
       "      <td>2018</td>\n",
       "      <td>122.0</td>\n",
       "      <td>drama</td>\n",
       "      <td>6.9</td>\n",
       "      <td>4517</td>\n",
       "      <td>drama</td>\n",
       "    </tr>\n",
       "    <tr>\n",
       "      <th>4</th>\n",
       "      <td>tt0100275</td>\n",
       "      <td>the wandering soap opera</td>\n",
       "      <td>la telenovela errante</td>\n",
       "      <td>2017</td>\n",
       "      <td>80.0</td>\n",
       "      <td>comedy,drama,fantasy</td>\n",
       "      <td>6.5</td>\n",
       "      <td>119</td>\n",
       "      <td>comedy</td>\n",
       "    </tr>\n",
       "    <tr>\n",
       "      <th>6</th>\n",
       "      <td>tt0137204</td>\n",
       "      <td>joe finds grace</td>\n",
       "      <td>joe finds grace</td>\n",
       "      <td>2017</td>\n",
       "      <td>83.0</td>\n",
       "      <td>adventure,animation,comedy</td>\n",
       "      <td>8.1</td>\n",
       "      <td>263</td>\n",
       "      <td>adventure</td>\n",
       "    </tr>\n",
       "  </tbody>\n",
       "</table>\n",
       "</div>"
      ],
      "text/plain": [
       "    movie_id                    primary_title              original_title  \\\n",
       "0  tt0063540                        sunghursh                   sunghursh   \n",
       "1  tt0066787  one day before the rainy season             ashad ka ek din   \n",
       "2  tt0069049       the other side of the wind  the other side of the wind   \n",
       "4  tt0100275         the wandering soap opera       la telenovela errante   \n",
       "6  tt0137204                  joe finds grace             joe finds grace   \n",
       "\n",
       "   start_year  runtime_minutes                      genres  averagerating  \\\n",
       "0        2013            175.0          action,crime,drama            7.0   \n",
       "1        2019            114.0             biography,drama            7.2   \n",
       "2        2018            122.0                       drama            6.9   \n",
       "4        2017             80.0        comedy,drama,fantasy            6.5   \n",
       "6        2017             83.0  adventure,animation,comedy            8.1   \n",
       "\n",
       "   numvotes primary_genre  \n",
       "0        77        action  \n",
       "1        43     biography  \n",
       "2      4517         drama  \n",
       "4       119        comedy  \n",
       "6       263     adventure  "
      ]
     },
     "execution_count": 44,
     "metadata": {},
     "output_type": "execute_result"
    }
   ],
   "source": [
    "# Make cleaning copy\n",
    "df_basics_c = df_basics.copy()\n",
    "\n",
    "# Address lowercase & nas\n",
    "df_basics_c.dropna(inplace=True)\n",
    "lowercase(df_basics_c)\n",
    "\n",
    "# Create primary_genre column\n",
    "df_basics_c['primary_genre'] = df_basics_c.genres.apply(lambda x: x.split(',')[0])\n",
    "\n",
    "df_basics_c.head()"
   ]
  },
  {
   "cell_type": "markdown",
   "metadata": {},
   "source": [
    "It looks like this dataset is missing 10 years of information from the timeline we are looking at based on the release year in other databases which maxes out at 2020 and the information found about the newest era being post millenium.\n",
    "\n",
    "**Source:** <a href = \"http://www.historyoffilm.net/movie-eras/history-of-cinema/#:~:text=With%20over%20100%20years%20of,every%20decade%20of%20its%20history.\">Movie Eras - History of Cinema and the First Film</a>"
   ]
  },
  {
   "cell_type": "code",
   "execution_count": 59,
   "metadata": {},
   "outputs": [
    {
     "name": "stdout",
     "output_type": "stream",
     "text": [
      "release_year range: 2010 2019\n",
      "(65720, 9)\n"
     ]
    }
   ],
   "source": [
    "print(\"release_year range:\", df_basics_c.start_year.min(), df_basics_c.start_year.max())\n",
    "\n",
    "# Filter out years before 2000\n",
    "df_basics_c = df_basics_c[df_basics_c['start_year']>1999]\n",
    "print(df_basics_c.shape)"
   ]
  },
  {
   "cell_type": "markdown",
   "metadata": {
    "jp-MarkdownHeadingCollapsed": true
   },
   "source": [
    "#### Cleaning df_db"
   ]
  },
  {
   "cell_type": "code",
   "execution_count": 62,
   "metadata": {},
   "outputs": [
    {
     "data": {
      "text/html": [
       "<div>\n",
       "<style scoped>\n",
       "    .dataframe tbody tr th:only-of-type {\n",
       "        vertical-align: middle;\n",
       "    }\n",
       "\n",
       "    .dataframe tbody tr th {\n",
       "        vertical-align: top;\n",
       "    }\n",
       "\n",
       "    .dataframe thead th {\n",
       "        text-align: right;\n",
       "    }\n",
       "</style>\n",
       "<table border=\"1\" class=\"dataframe\">\n",
       "  <thead>\n",
       "    <tr style=\"text-align: right;\">\n",
       "      <th></th>\n",
       "      <th>genre_ids</th>\n",
       "      <th>id</th>\n",
       "      <th>original_language</th>\n",
       "      <th>original_title</th>\n",
       "      <th>popularity</th>\n",
       "      <th>release_date</th>\n",
       "      <th>title</th>\n",
       "      <th>vote_average</th>\n",
       "      <th>vote_count</th>\n",
       "      <th>release_year</th>\n",
       "      <th>primary_genre</th>\n",
       "    </tr>\n",
       "  </thead>\n",
       "  <tbody>\n",
       "    <tr>\n",
       "      <th>0</th>\n",
       "      <td>12, 14, 10751</td>\n",
       "      <td>12444</td>\n",
       "      <td>en</td>\n",
       "      <td>harry potter and the deathly hallows: part 1</td>\n",
       "      <td>33.533</td>\n",
       "      <td>2010-11-19</td>\n",
       "      <td>harry potter and the deathly hallows: part 1</td>\n",
       "      <td>7.7</td>\n",
       "      <td>10788</td>\n",
       "      <td>2010</td>\n",
       "      <td>adventure</td>\n",
       "    </tr>\n",
       "    <tr>\n",
       "      <th>1</th>\n",
       "      <td>14, 12, 16, 10751</td>\n",
       "      <td>10191</td>\n",
       "      <td>en</td>\n",
       "      <td>how to train your dragon</td>\n",
       "      <td>28.734</td>\n",
       "      <td>2010-03-26</td>\n",
       "      <td>how to train your dragon</td>\n",
       "      <td>7.7</td>\n",
       "      <td>7610</td>\n",
       "      <td>2010</td>\n",
       "      <td>fantasy</td>\n",
       "    </tr>\n",
       "    <tr>\n",
       "      <th>2</th>\n",
       "      <td>12, 28, 878</td>\n",
       "      <td>10138</td>\n",
       "      <td>en</td>\n",
       "      <td>iron man 2</td>\n",
       "      <td>28.515</td>\n",
       "      <td>2010-05-07</td>\n",
       "      <td>iron man 2</td>\n",
       "      <td>6.8</td>\n",
       "      <td>12368</td>\n",
       "      <td>2010</td>\n",
       "      <td>adventure</td>\n",
       "    </tr>\n",
       "    <tr>\n",
       "      <th>3</th>\n",
       "      <td>16, 35, 10751</td>\n",
       "      <td>862</td>\n",
       "      <td>en</td>\n",
       "      <td>toy story</td>\n",
       "      <td>28.005</td>\n",
       "      <td>1995-11-22</td>\n",
       "      <td>toy story</td>\n",
       "      <td>7.9</td>\n",
       "      <td>10174</td>\n",
       "      <td>1995</td>\n",
       "      <td>animation</td>\n",
       "    </tr>\n",
       "    <tr>\n",
       "      <th>4</th>\n",
       "      <td>28, 878, 12</td>\n",
       "      <td>27205</td>\n",
       "      <td>en</td>\n",
       "      <td>inception</td>\n",
       "      <td>27.920</td>\n",
       "      <td>2010-07-16</td>\n",
       "      <td>inception</td>\n",
       "      <td>8.3</td>\n",
       "      <td>22186</td>\n",
       "      <td>2010</td>\n",
       "      <td>action</td>\n",
       "    </tr>\n",
       "  </tbody>\n",
       "</table>\n",
       "</div>"
      ],
      "text/plain": [
       "           genre_ids     id original_language  \\\n",
       "0      12, 14, 10751  12444                en   \n",
       "1  14, 12, 16, 10751  10191                en   \n",
       "2        12, 28, 878  10138                en   \n",
       "3      16, 35, 10751    862                en   \n",
       "4        28, 878, 12  27205                en   \n",
       "\n",
       "                                 original_title  popularity release_date  \\\n",
       "0  harry potter and the deathly hallows: part 1      33.533   2010-11-19   \n",
       "1                      how to train your dragon      28.734   2010-03-26   \n",
       "2                                    iron man 2      28.515   2010-05-07   \n",
       "3                                     toy story      28.005   1995-11-22   \n",
       "4                                     inception      27.920   2010-07-16   \n",
       "\n",
       "                                          title  vote_average  vote_count  \\\n",
       "0  harry potter and the deathly hallows: part 1           7.7       10788   \n",
       "1                      how to train your dragon           7.7        7610   \n",
       "2                                    iron man 2           6.8       12368   \n",
       "3                                     toy story           7.9       10174   \n",
       "4                                     inception           8.3       22186   \n",
       "\n",
       "   release_year primary_genre  \n",
       "0          2010     adventure  \n",
       "1          2010       fantasy  \n",
       "2          2010     adventure  \n",
       "3          1995     animation  \n",
       "4          2010        action  "
      ]
     },
     "execution_count": 62,
     "metadata": {},
     "output_type": "execute_result"
    }
   ],
   "source": [
    "# Create a cleaning copy\n",
    "df_db_c = df_db.copy()\n",
    "\n",
    "# Address lowercase\n",
    "lowercase(df_db_c).head(10)\n",
    "    \n",
    "# create release_year column and convert to int\n",
    "df_db_c['release_year'] = df_db_c['release_date'].apply(lambda x: int(x.split('-')[0]))\n",
    "\n",
    "# strip genre_ids of []\n",
    "df_db_c['genre_ids'] = df_db_c['genre_ids'].apply(lambda x: x.strip('[]').strip(\"\"))\n",
    "\n",
    "# extract primary genre_id & create a new column 'primary_genre'\n",
    "df_db_c['primary_genre'] = df_db_c['genre_ids'].apply(lambda x: x.split(',')[0])\n",
    "\n",
    "\n",
    "data_text = '''\n",
    "Action          28\n",
    "Adventure       12\n",
    "Animation       16\n",
    "Comedy          35\n",
    "Crime           80\n",
    "Documentary     99\n",
    "Drama           18\n",
    "Family          10751\n",
    "Fantasy         14\n",
    "History         36\n",
    "Horror          27\n",
    "Music           10402\n",
    "Mystery         9648\n",
    "Romance         10749\n",
    "Science Fiction 878\n",
    "TV Movie        10770\n",
    "Thriller        53\n",
    "War             10752\n",
    "Western         37\n",
    "'''\n",
    "\n",
    "# Convert the text into a list of tuples\n",
    "genre_list = [tuple(line.split(maxsplit=1)) for line in data_text.strip().split('\\n')]\n",
    "\n",
    "# Convert the list of into a dictionary\n",
    "genre_dict = dict(genre_list)\n",
    "\n",
    "# Iterate over each genre_ids to replace with genre name bsed on genre_dict\n",
    "for k, v in genre_dict.items():\n",
    "    df_db_c.loc[df_db_c['primary_genre'].str.contains(v), 'primary_genre'] = k.lower()\n",
    "\n",
    "df_db_c.head()"
   ]
  },
  {
   "cell_type": "code",
   "execution_count": 86,
   "metadata": {},
   "outputs": [],
   "source": [
    "# Replace whitespace with None to identify nans\n",
    "df_db_c['genre_ids'] = df_db_c['genre_ids'].replace(r'^\\s*$', np.nan, regex=True)\n",
    "\n",
    "# ~9% of genre_ids are missing from the data\n",
    "df_db_c.isna().sum()/len(df_db_c)*100\n",
    "\n",
    "df_db_c['genre_ids'].dropna(inplace=True)"
   ]
  },
  {
   "cell_type": "markdown",
   "metadata": {},
   "source": [
    "Noticed there were empty strings not registered as None and therefore were not coming up as nans. After transforming them to proper format, only ~9% of data was missing so it was appropriate to drop those rows."
   ]
  },
  {
   "cell_type": "code",
   "execution_count": 56,
   "metadata": {},
   "outputs": [
    {
     "name": "stdout",
     "output_type": "stream",
     "text": [
      "release_year range: 2000 2020\n",
      "(26398, 11)\n"
     ]
    }
   ],
   "source": [
    "print(\"release_year range:\", df_db_c.release_year.min(), df_db_c.release_year.max())\n",
    "\n",
    "# Filter out years before 2000\n",
    "df_db_c = df_db_c[df_db_c['release_year']>1999]\n",
    "print(df_db_c.shape)"
   ]
  },
  {
   "cell_type": "code",
   "execution_count": 163,
   "metadata": {},
   "outputs": [
    {
     "name": "stdout",
     "output_type": "stream",
     "text": [
      "vote_average range: 0.0 10.0\n",
      "popularity range: 0.6 80.773\n",
      "release_year range: 1930 2020\n",
      "top_10_languages: original_language\n",
      "en    23291\n",
      "fr      507\n",
      "es      455\n",
      "ru      298\n",
      "ja      265\n",
      "de      237\n",
      "zh      177\n",
      "hi      172\n",
      "it      123\n",
      "pt       96\n",
      "Name: count, dtype: int64\n"
     ]
    }
   ],
   "source": [
    "# Explore columns\n",
    "\n",
    "print(\"vote_average range:\", df_db.vote_average.values.min(), df_db.vote_average.values.max())\n",
    "print(\"popularity range:\", df_db.popularity.values.min(), df_db.popularity.values.max())\n",
    "print(\"release_year range:\", df_db.release_year.min(), df_db.release_year.max())\n",
    "print(\"top_10_languages:\", df_db.original_language.value_counts().head(10))"
   ]
  },
  {
   "cell_type": "markdown",
   "metadata": {},
   "source": [
    "It looks like `vote_average` is out of 10 so can be considered a 'rating' potentially. It's possible `popularity` is out of 100, though the max is 80.773. The max year is 2020, which may limit other databases we use if we want all years to align"
   ]
  },
  {
   "cell_type": "markdown",
   "metadata": {},
   "source": [
    "#### Cleaning df_budg"
   ]
  },
  {
   "cell_type": "code",
   "execution_count": null,
   "metadata": {},
   "outputs": [],
   "source": [
    "Grossing\n",
    "\n",
    "'genres' in df_basics (movie_ratings & movie_basics combined)\n",
    "'domestic_gross', 'foreign_gross', or 'worldwide_gross\n",
    "'language' in df_db (tmdb.movies.csv)\n",
    "Viewability\n",
    "\n",
    "'averagerating' in df_basics\n",
    "'genres' in df_basics\n",
    "'popularity' & 'vote_average' in df_db\n",
    "'original_language' in df_db"
   ]
  },
  {
   "cell_type": "code",
   "execution_count": 48,
   "metadata": {},
   "outputs": [
    {
     "data": {
      "text/html": [
       "<div>\n",
       "<style scoped>\n",
       "    .dataframe tbody tr th:only-of-type {\n",
       "        vertical-align: middle;\n",
       "    }\n",
       "\n",
       "    .dataframe tbody tr th {\n",
       "        vertical-align: top;\n",
       "    }\n",
       "\n",
       "    .dataframe thead th {\n",
       "        text-align: right;\n",
       "    }\n",
       "</style>\n",
       "<table border=\"1\" class=\"dataframe\">\n",
       "  <thead>\n",
       "    <tr style=\"text-align: right;\">\n",
       "      <th></th>\n",
       "      <th>id</th>\n",
       "      <th>release_date</th>\n",
       "      <th>movie</th>\n",
       "      <th>production_budget</th>\n",
       "      <th>domestic_gross</th>\n",
       "      <th>worldwide_gross</th>\n",
       "      <th>release_year</th>\n",
       "      <th>foreign_gross</th>\n",
       "    </tr>\n",
       "  </thead>\n",
       "  <tbody>\n",
       "    <tr>\n",
       "      <th>0</th>\n",
       "      <td>1</td>\n",
       "      <td>dec 18, 2009</td>\n",
       "      <td>avatar</td>\n",
       "      <td>425000000</td>\n",
       "      <td>760507625</td>\n",
       "      <td>2776345279</td>\n",
       "      <td>2009</td>\n",
       "      <td>2015837654</td>\n",
       "    </tr>\n",
       "    <tr>\n",
       "      <th>1</th>\n",
       "      <td>2</td>\n",
       "      <td>may 20, 2011</td>\n",
       "      <td>pirates of the caribbean: on stranger tides</td>\n",
       "      <td>410600000</td>\n",
       "      <td>241063875</td>\n",
       "      <td>1045663875</td>\n",
       "      <td>2011</td>\n",
       "      <td>804600000</td>\n",
       "    </tr>\n",
       "    <tr>\n",
       "      <th>2</th>\n",
       "      <td>3</td>\n",
       "      <td>jun 7, 2019</td>\n",
       "      <td>dark phoenix</td>\n",
       "      <td>350000000</td>\n",
       "      <td>42762350</td>\n",
       "      <td>149762350</td>\n",
       "      <td>2019</td>\n",
       "      <td>107000000</td>\n",
       "    </tr>\n",
       "    <tr>\n",
       "      <th>3</th>\n",
       "      <td>4</td>\n",
       "      <td>may 1, 2015</td>\n",
       "      <td>avengers: age of ultron</td>\n",
       "      <td>330600000</td>\n",
       "      <td>459005868</td>\n",
       "      <td>1403013963</td>\n",
       "      <td>2015</td>\n",
       "      <td>944008095</td>\n",
       "    </tr>\n",
       "    <tr>\n",
       "      <th>4</th>\n",
       "      <td>5</td>\n",
       "      <td>dec 15, 2017</td>\n",
       "      <td>star wars ep. viii: the last jedi</td>\n",
       "      <td>317000000</td>\n",
       "      <td>620181382</td>\n",
       "      <td>1316721747</td>\n",
       "      <td>2017</td>\n",
       "      <td>696540365</td>\n",
       "    </tr>\n",
       "  </tbody>\n",
       "</table>\n",
       "</div>"
      ],
      "text/plain": [
       "   id  release_date                                        movie  \\\n",
       "0   1  dec 18, 2009                                       avatar   \n",
       "1   2  may 20, 2011  pirates of the caribbean: on stranger tides   \n",
       "2   3   jun 7, 2019                                 dark phoenix   \n",
       "3   4   may 1, 2015                      avengers: age of ultron   \n",
       "4   5  dec 15, 2017            star wars ep. viii: the last jedi   \n",
       "\n",
       "   production_budget  domestic_gross  worldwide_gross  release_year  \\\n",
       "0          425000000       760507625       2776345279          2009   \n",
       "1          410600000       241063875       1045663875          2011   \n",
       "2          350000000        42762350        149762350          2019   \n",
       "3          330600000       459005868       1403013963          2015   \n",
       "4          317000000       620181382       1316721747          2017   \n",
       "\n",
       "   foreign_gross  \n",
       "0     2015837654  \n",
       "1      804600000  \n",
       "2      107000000  \n",
       "3      944008095  \n",
       "4      696540365  "
      ]
     },
     "execution_count": 48,
     "metadata": {},
     "output_type": "execute_result"
    }
   ],
   "source": [
    "# Create cleaning copy\n",
    "df_budg_c = df_budg.copy()\n",
    "\n",
    "# Address lowercase \n",
    "lowercase(df_budg_c).head(10)\n",
    "\n",
    "# Create release_year as an int\n",
    "df_budg_c['release_year'] = df_budg_c['release_date'].apply(lambda x: int(x.split(',')[1]))\n",
    "\n",
    "# Convert dollar columns to int\n",
    "df_budg_c['production_budget'] = df_budg_c['production_budget'].str.replace(',', '').str.replace('$', '').astype(int)\n",
    "df_budg_c['domestic_gross'] = df_budg_c['domestic_gross'].str.replace(',', '').str.replace('$', '').astype(int)\n",
    "df_budg_c['worldwide_gross'] = df_budg_c['worldwide_gross'].str.replace(',', '').str.replace('$', '').astype(int)\n",
    "\n",
    "# Create foreign_gross column\n",
    "df_budg_c['foreign_gross'] = df_budg_c.worldwide_gross - df_budg_c.domestic_gross\n",
    "\n",
    "df_budg_c.head()"
   ]
  },
  {
   "cell_type": "code",
   "execution_count": 53,
   "metadata": {},
   "outputs": [
    {
     "name": "stdout",
     "output_type": "stream",
     "text": [
      "release_year range: 2000 2020\n",
      "(4387, 8)\n"
     ]
    }
   ],
   "source": [
    "print(\"release_year range:\", df_budg_c.release_year.min(), df_budg_c.release_year.max())\n",
    "\n",
    "# Filter out years before 2000\n",
    "df_budg_c = df_budg_c[df_budg_c['release_year']>1999]\n",
    "print(df_budg_c.shape)"
   ]
  }
 ],
 "metadata": {
  "kernelspec": {
   "display_name": "Python (learn-env-lite-2)",
   "language": "python",
   "name": "learn-env-lite-2"
  },
  "language_info": {
   "codemirror_mode": {
    "name": "ipython",
    "version": 3
   },
   "file_extension": ".py",
   "mimetype": "text/x-python",
   "name": "python",
   "nbconvert_exporter": "python",
   "pygments_lexer": "ipython3",
   "version": "3.12.1"
  }
 },
 "nbformat": 4,
 "nbformat_minor": 4
}
